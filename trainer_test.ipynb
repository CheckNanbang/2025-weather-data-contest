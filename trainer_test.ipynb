{
 "cells": [
  {
   "cell_type": "code",
   "execution_count": 2,
   "id": "d8b144e4",
   "metadata": {},
   "outputs": [],
   "source": [
    "import pandas as pd\n",
    "import numpy as np\n",
    "\n",
    "from dataloader.data_loader import data_loader\n",
    "from utils.data_split import data_split\n",
    "from utils.load_params import load_params\n",
    "from models.train_model import train_model\n",
    "from sklearn.metrics import mean_absolute_error, mean_squared_error, r2_score, mean_squared_log_error, mean_absolute_percentage_error, explained_variance_score\n",
    "from datetime import datetime"
   ]
  },
  {
   "cell_type": "code",
   "execution_count": 3,
   "id": "6576f270",
   "metadata": {},
   "outputs": [],
   "source": [
    "dataset_name = \"heat\" # \n",
    "model_name = \"XGB\" # LGBM/XGB/\n",
    "split_type = \"time\" # random/time\n",
    "model_type = \"regressor\" # classifier/regressor"
   ]
  },
  {
   "cell_type": "code",
   "execution_count": 4,
   "id": "381f6a4d",
   "metadata": {},
   "outputs": [],
   "source": [
    "now = datetime.now()\n",
    "date_code = \"\".join([str(now.month), str(now.day), str(now.hour), str(now.minute)])\n",
    "save_name = \"_\".join([model_name, dataset_name, split_type, date_code, \".csv\"])"
   ]
  },
  {
   "cell_type": "code",
   "execution_count": 5,
   "id": "84eb2813",
   "metadata": {},
   "outputs": [],
   "source": [
    "train_df, test_df, submission_df , target_column = data_loader(dataset_name)"
   ]
  },
  {
   "cell_type": "code",
   "execution_count": 6,
   "id": "6e8a3d42",
   "metadata": {},
   "outputs": [],
   "source": [
    "x_train, x_valid, y_train, y_valid = data_split(split_type, train_df, target_column)\n",
    "X_test = test_df.copy()"
   ]
  },
  {
   "cell_type": "code",
   "execution_count": 7,
   "id": "c0985a2b",
   "metadata": {},
   "outputs": [],
   "source": [
    "x_train = x_train.drop(columns=[\"train_heatbranch_id\"])\n",
    "x_valid = x_valid.drop(columns=[\"train_heatbranch_id\"])\n",
    "X_test = X_test.drop(columns=[\"train_heatbranch_id\"])\n",
    "# 원래는 삭제해야\n"
   ]
  },
  {
   "cell_type": "code",
   "execution_count": 8,
   "id": "cde791f1",
   "metadata": {},
   "outputs": [],
   "source": [
    "local_min = min(y_train)"
   ]
  },
  {
   "cell_type": "code",
   "execution_count": 9,
   "id": "d2022598",
   "metadata": {},
   "outputs": [],
   "source": [
    "params = load_params(model_name, model_type)\n",
    "model = train_model(model_name, model_type, params, x_train, y_train)"
   ]
  },
  {
   "cell_type": "code",
   "execution_count": 10,
   "id": "983e077c",
   "metadata": {},
   "outputs": [
    {
     "name": "stderr",
     "output_type": "stream",
     "text": [
      "c:\\Users\\smlee\\Desktop\\python\\.venv2\\Lib\\site-packages\\xgboost\\core.py:729: UserWarning: [02:55:41] WARNING: C:\\actions-runner\\_work\\xgboost\\xgboost\\src\\common\\error_msg.cc:58: Falling back to prediction using DMatrix due to mismatched devices. This might lead to higher memory usage and slower performance. XGBoost is running on: cuda:0, while the input data is on: cpu.\n",
      "Potential solutions:\n",
      "- Use a data structure that matches the device ordinal in the booster.\n",
      "- Set the device for booster before call to inplace_predict.\n",
      "\n",
      "This warning will only be shown once.\n",
      "\n",
      "  return func(**kwargs)\n"
     ]
    }
   ],
   "source": [
    "y_valid_pred = model.predict(x_valid)\n",
    "y_valid_pred = np.where(y_valid_pred < 0, 0, y_valid_pred)"
   ]
  },
  {
   "cell_type": "code",
   "execution_count": 11,
   "id": "3b786b6c",
   "metadata": {},
   "outputs": [
    {
     "name": "stdout",
     "output_type": "stream",
     "text": [
      "Warning: MSLE could not be calculated due to negative values.\n"
     ]
    }
   ],
   "source": [
    "y_valid_mae = mean_absolute_error(y_valid, y_valid_pred)\n",
    "y_valid_mse = mean_squared_error(y_valid, y_valid_pred)\n",
    "y_valid_rmse = np.sqrt(mean_squared_error(y_valid, y_valid_pred))\n",
    "y_valid_r2 = r2_score(y_valid, y_valid_pred)\n",
    "y_valid_mape = mean_absolute_percentage_error(y_valid, y_valid_pred)\n",
    "y_valid_evs = explained_variance_score(y_valid, y_valid_pred)\n",
    "\n",
    "# MSLE 계산을 try-except 블록으로 감싸서 오류 처리\n",
    "try:\n",
    "    y_valid_msle = mean_squared_log_error(y_valid, y_valid_pred)\n",
    "except ValueError:\n",
    "    print(\"Warning: MSLE could not be calculated due to negative values.\")\n",
    "    y_valid_msle = None"
   ]
  },
  {
   "cell_type": "code",
   "execution_count": 12,
   "id": "13aefa15",
   "metadata": {},
   "outputs": [
    {
     "name": "stdout",
     "output_type": "stream",
     "text": [
      "MAE: 39.24\n",
      "MSE: 5754.84\n",
      "RMSE: 75.86\n",
      "R2: 0.42\n",
      "MSLE: Not available\n",
      "MAPE: 3124671807488.00\n",
      "EVS: 0.50\n"
     ]
    }
   ],
   "source": [
    "print(f\"MAE: {y_valid_mae:.2f}\") # 절대 오차의 평균, 값이 작을수록 좋음\n",
    "print(f\"MSE: {y_valid_mse:.2f}\") # 제곱 오차의 평균, 값이 작을수록 좋음\n",
    "print(f\"RMSE: {y_valid_rmse:.2f}\") # MSE의 제곱근, 값이 작을수록 좋음\n",
    "print(f\"R2: {y_valid_r2:.2f}\") # 모델의 설명력, 값이 1에 가까울수록 예측이 정확함\n",
    "if y_valid_msle is not None:\n",
    "    print(f\"MSLE: {y_valid_msle:.2f}\") # 예측값과 실제값의 로그 차이를 기반으로 한 평균 제곱 오차, 값이 작을수록 좋음\n",
    "else:\n",
    "    print(\"MSLE: Not available\") \n",
    "print(f\"MAPE: {y_valid_mape:.2f}\") # 절대 오차를 실제 값에 대한 백분율로 나타낸 값, 값이 작을수록 좋음\n",
    "print(f\"EVS: {y_valid_evs:.2f}\") # 예측된 값과 실제 값 사이의 분산을 측정, 값이 1에 가까울수록 예측이 정확함"
   ]
  },
  {
   "cell_type": "code",
   "execution_count": 13,
   "id": "f7cce943",
   "metadata": {},
   "outputs": [],
   "source": [
    "x_total = pd.concat([x_train, x_valid], axis=0)\n",
    "y_total = pd.concat([y_train, y_valid], axis=0)\n",
    "model = train_model(model_name, model_type, params, x_total, y_total)"
   ]
  },
  {
   "cell_type": "code",
   "execution_count": 18,
   "id": "b4c4e952",
   "metadata": {},
   "outputs": [],
   "source": [
    "X_test = X_test.drop(columns=[\"train_heatheat_demand\"], errors=\"ignore\")  # errors=\"ignore\"는 열이 없으면 무시\n",
    "test_pred = model.predict(X_test)\n",
    "\n",
    "submission_df['heat_demand'] = test_pred\n",
    "submission_df.to_csv(save_name, index=False, encoding='utf-8-sig')"
   ]
  },
  {
   "cell_type": "code",
   "execution_count": null,
   "id": "780f2b58",
   "metadata": {},
   "outputs": [],
   "source": []
  }
 ],
 "metadata": {
  "kernelspec": {
   "display_name": ".venv2",
   "language": "python",
   "name": "python3"
  },
  "language_info": {
   "codemirror_mode": {
    "name": "ipython",
    "version": 3
   },
   "file_extension": ".py",
   "mimetype": "text/x-python",
   "name": "python",
   "nbconvert_exporter": "python",
   "pygments_lexer": "ipython3",
   "version": "3.11.9"
  }
 },
 "nbformat": 4,
 "nbformat_minor": 5
}
